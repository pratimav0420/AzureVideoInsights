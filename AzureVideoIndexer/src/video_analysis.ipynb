{
 "cells": [
  {
   "cell_type": "markdown",
   "metadata": {},
   "source": [
    "# Below Code Block contains all the necessary constants fetched from the .env file"
   ]
  },
  {
   "cell_type": "markdown",
   "metadata": {},
   "source": [
    "### Import Environment Variables"
   ]
  },
  {
   "cell_type": "code",
   "execution_count": 54,
   "metadata": {},
   "outputs": [],
   "source": [
    "import os\n",
    "BLOBACCOUNTNAME = os.getenv('BLOBACCOUNTNAME')\n",
    "BLOBACCESSKEY = os.getenv('BLOBACCESSKEY')\n",
    "AZUR_ENDPOINT = os.getenv('AZUR_ENDPOINT')\n",
    "AZUR_OPENAI_KEY = os.getenv('AZUR_OPENAI_KEY')"
   ]
  },
  {
   "cell_type": "markdown",
   "metadata": {},
   "source": [
    "### get container clinet"
   ]
  },
  {
   "cell_type": "code",
   "execution_count": 55,
   "metadata": {},
   "outputs": [],
   "source": [
    "# Function to get the container client to store the video in to\n",
    "\n",
    "from azure.storage.blob import BlobServiceClient\n",
    "import os\n",
    "BLOBACCOUNTNAME = os.getenv('BLOBACCOUNTNAME')\n",
    "BLOBACCESSKEY = os.getenv('BLOBACCESSKEY')\n",
    "def CreateContainerIfNotExists(container_name):\n",
    "    \"\"\"\n",
    "    Function Information:\n",
    "        Info : Create container for particular KB for store upload document in this container\n",
    "    \"\"\"\n",
    "\n",
    "    global account_name, account_key\n",
    "\n",
    "    try:\n",
    "\n",
    "        blob_service_client = BlobServiceClient(account_url=f\"https://{BLOBACCOUNTNAME}.blob.core.windows.net\", credential=BLOBACCESSKEY)\n",
    "\n",
    "        # Azur container client\n",
    "        container_client = blob_service_client.get_container_client(container_name)\n",
    "        if not container_client.exists():\n",
    "            container_client.create_container()\n",
    "        return True, container_client\n",
    "    except Exception as e:\n",
    "        print(e)\n",
    "        return False, None"
   ]
  },
  {
   "cell_type": "markdown",
   "metadata": {},
   "source": [
    "### get container SAS token"
   ]
  },
  {
   "cell_type": "code",
   "execution_count": 56,
   "metadata": {},
   "outputs": [],
   "source": [
    "# Function code to get the Container SAS Token\n",
    "from datetime import datetime, timedelta\n",
    "from azure.storage.blob import generate_container_sas, ContainerSasPermissions\n",
    "\n",
    "def CreateContainerSASToken(container_name='tenant-151-safetycheck'):\n",
    "    \"\"\"\n",
    "    Function information:\n",
    "        Info : Create SAS token for particular KB for access that document of that KB\n",
    "    \"\"\"\n",
    "\n",
    "\n",
    "    try:\n",
    "        # SAS token information        \n",
    "        token_duration = timedelta(hours=1)\n",
    "        permissions = ContainerSasPermissions(read = True, list=True)\n",
    "        sas_token = generate_container_sas(\n",
    "            account_name=BLOBACCOUNTNAME,\n",
    "            container_name=container_name,\n",
    "            account_key=BLOBACCESSKEY,\n",
    "            permission=permissions,\n",
    "            expiry=  datetime.utcnow() + token_duration\n",
    "        )\n",
    "        return sas_token\n",
    "    except Exception as e:\n",
    "        print(e)\n",
    "        return False"
   ]
  },
  {
   "cell_type": "markdown",
   "metadata": {},
   "source": [
    "### Upload Video to Storage account"
   ]
  },
  {
   "cell_type": "code",
   "execution_count": 57,
   "metadata": {},
   "outputs": [],
   "source": [
    "# Code to upload Video to AZURE blob storage account\n",
    "import uuid\n",
    "def UploadVideoToStorageAccount(file_path, container_name = 'tenant-151-safetycheck'):\n",
    "    # file_path = '/content/test-video-101.mp4'\n",
    "    with open(file_path, 'rb') as video_file:\n",
    "        create_container_status, container_client = CreateContainerIfNotExists(container_name)\n",
    "\n",
    "        file_extension = file_path.split(\".\")[-1]\n",
    "        upload_file_name = f\"test-videos/{uuid.uuid4()}.{file_extension}\"\n",
    "\n",
    "        # Upload blob\n",
    "        blob_client = container_client.get_blob_client(upload_file_name)\n",
    "        video_data = video_file.read()\n",
    "        blob_client.upload_blob(data=video_data, overwrite=True)\n",
    "\n",
    "        # Generate video URL\n",
    "        video_url = blob_client.url\n",
    "        print(f\"Video successfully uploaded: {video_url}\")\n",
    "        return video_url\n",
    "    \n",
    "    print(\"something went wrong\")"
   ]
  },
  {
   "cell_type": "markdown",
   "metadata": {},
   "source": [
    "### Get Bearer Token"
   ]
  },
  {
   "cell_type": "code",
   "execution_count": 58,
   "metadata": {},
   "outputs": [],
   "source": [
    "# GET API bearer token:\n",
    "import requests\n",
    "\n",
    "def get_api_bearer_token():\n",
    "    '''\n",
    "    Function to get bearer token that can be used for getting access token for video indexing\n",
    "    '''\n",
    "\n",
    "    # Define the API endpoint\n",
    "    tenant_id =  os.getenv('AZURE_VIDEO_INDEXER_TENANT_ID')\n",
    "    url = f\"https://login.microsoftonline.com/{tenant_id}/oauth2/v2.0/token\"\n",
    "\n",
    "    # Prepare the data and files\n",
    "    client_id = os.getenv('AZURE_VIDEO_INDEXER_CLIENT_ID')\n",
    "    client_secret = os.getenv('AZURE_VIDEO_INDEXER_CLIENT_SECRET')\n",
    "    grant_type = \"client_credentials\"\n",
    "    scope = \"https://management.azure.com/.default\"\n",
    "\n",
    "    data = {\n",
    "        \"client_id\": client_id,\n",
    "        \"client_secret\": client_secret,\n",
    "        \"grant_type\": grant_type,\n",
    "        \"scope\": scope\n",
    "    }\n",
    "\n",
    "    # Send the request\n",
    "    response = requests.post(url, data=data)\n",
    "\n",
    "    # Handle the response\n",
    "    if response.status_code == 200:\n",
    "        return response.json()['access_token']\n",
    "    else:\n",
    "        print(\"Failed to get bearer token\")\n",
    "        print(\"Status code:\", response.status_code)\n",
    "        print(\"Response:\", response.text)\n"
   ]
  },
  {
   "cell_type": "markdown",
   "metadata": {},
   "source": [
    "### get access token"
   ]
  },
  {
   "cell_type": "code",
   "execution_count": 59,
   "metadata": {},
   "outputs": [],
   "source": [
    "import requests\n",
    "\n",
    "def get_access_token():\n",
    "    '''\n",
    "    Function to get bearer token that can be used for getting access token for video indexing\n",
    "    '''\n",
    "    subscription_id = os.getenv('AZURE_VIDEO_INDEXER_SUBSCRIPTION_ID')\n",
    "    resource_group = os.getenv('AZURE_VIDEO_INDEXER_RESOURCE_GROUP')\n",
    "    account_name = os.getenv('AZURE_VIDEO_INDEXER_ACCOUNT_NAME')\n",
    "    version = '2022-08-01'\n",
    "\n",
    "    url = f\"https://management.azure.com/subscriptions/{subscription_id}/resourcegroups/{resource_group}/providers/Microsoft.VideoIndexer/accounts/{account_name}/generateAccessToken?api-version={version}\"\n",
    "    \n",
    "    data = {\n",
    "        \"permissionType\": \"Contributor\",\n",
    "        \"scope\": \"Account\"\n",
    "    }\n",
    "\n",
    "    bearer_token = get_api_bearer_token()\n",
    "\n",
    "    headers = {\n",
    "        \"Content-Type\": 'application/json',\n",
    "        \"Authorization\": f\"Bearer {bearer_token}\"\n",
    "    }\n",
    "\n",
    "    response = requests.post(url, headers=headers, json=data)\n",
    "    \n",
    "    if response.status_code == 200:\n",
    "        return response.json()['accessToken']\n",
    "    else:\n",
    "        print(\"Failed to get access token\")\n",
    "        print(\"Status code:\", response.status_code)\n",
    "        print(\"Response:\", response.text)"
   ]
  },
  {
   "cell_type": "markdown",
   "metadata": {},
   "source": [
    "### Functionality for uploading video using video url to Azure Video Indexer "
   ]
  },
  {
   "cell_type": "code",
   "execution_count": 60,
   "metadata": {},
   "outputs": [],
   "source": [
    "# Upload video for indexing\n",
    "\n",
    "########### Python 3.2 #############\n",
    "import urllib.request, json, requests\n",
    "from urllib.parse import quote\n",
    "\n",
    "\n",
    "def upload_video_for_indexing(video_url):\n",
    "\n",
    "    try:\n",
    "\n",
    "        access_token = get_access_token()\n",
    "        account_id = os.getenv('AZURE_VIDEO_INDEXER_ACCOUNT_ID')\n",
    "        url = f\"https://api.videoindexer.ai/eastus/Accounts/{account_id}/Videos?name=test-844&videoUrl={quote(video_url)}&accessToken={access_token}&preventDuplicates=False\"\n",
    "        hdr ={\n",
    "        # Request headers\n",
    "        'Ocp-Apim-Subscription-Key':  os.getenv('AZURE_VIDEO_INDEXER_OCM_SUBSCRIPTION_KEY')\n",
    "        }\n",
    "\n",
    "        request = urllib.request.Request(url, headers=hdr, method='POST')\n",
    "        response = urllib.request.urlopen(request)\n",
    "        \n",
    "        if response.status == 200:\n",
    "            print(\"video uploaded successfully\")\n",
    "            response_data = json.loads(response.read().decode('utf-8'))\n",
    "            print(response_data)\n",
    "            return response_data\n",
    "        else:\n",
    "            print(\"Failed to upload video\")\n",
    "            print(\"Status code:\", response.status)\n",
    "            response_body = response.read().decode('utf-8')\n",
    "            print(\"Response:\", response_body)\n",
    "    except urllib.error.HTTPError as e:\n",
    "        print(\"HTTP Error:\", e.code, e.reason)\n",
    "    except urllib.error.URLError as e:\n",
    "        print(\"URL Error:\", e.reason)\n",
    "    except Exception as e:\n",
    "        print(\"Something went wrong\")\n",
    "        print(e)\n",
    "####################################"
   ]
  },
  {
   "cell_type": "markdown",
   "metadata": {},
   "source": [
    "### Main functions to ask questions and get answers from openAi "
   ]
  },
  {
   "cell_type": "code",
   "execution_count": 61,
   "metadata": {},
   "outputs": [],
   "source": [
    "from openai import OpenAI\n",
    "def ask_question_on_video(video_id, question,context) -> str:\n",
    "    message_history = [\n",
    "        {   'role': \"system\", \n",
    "             \"content\": 'You are an virtual assistant who will take in context and a question and answer the question only based on question. Provide a concise answer, and if you cannot find answer in the context, just state: \"I am not able to answer the question.\"',\n",
    "        },\n",
    "        {\n",
    "            \"role\": \"user\", \n",
    "            \"content\": context\n",
    "        },\n",
    "        {\n",
    "            \"role\": \"user\", \n",
    "            \"content\": question\n",
    "        }\n",
    "    ]\n",
    "\n",
    "    client = OpenAI(api_key=os.getenv('OpenAI_KEY'))\n",
    "    chat_response = client.chat.completions.create(\n",
    "        model=os.getenv('ASSISTANT_MODEL'), \n",
    "        messages=message_history,\n",
    "        max_tokens=1000, \n",
    "        temperature=float(os.getenv('TEMPERATURE')),\n",
    "    )\n",
    "    answer = chat_response.choices[0].message.content\n",
    "    answer = answer if answer != 'I am not able to answer the question.' else ''\n",
    "    return answer"
   ]
  },
  {
   "cell_type": "markdown",
   "metadata": {},
   "source": [
    "### Async Function to Run until the video goes from processing state to processed state......"
   ]
  },
  {
   "cell_type": "code",
   "execution_count": 62,
   "metadata": {},
   "outputs": [],
   "source": [
    "import time\n",
    "from typing import Optional\n",
    "\n",
    "def wait_for_index_async(video_id:str) -> None:\n",
    "    '''\n",
    "    Calls getVideoIndex API in 10 second intervals until the indexing state is 'processed'\n",
    "    (https://api-portal.videoindexer.ai/api-details#api=Operations&operation=Get-Video-Index).\n",
    "    Prints video index when the index is complete, otherwise throws exception.\n",
    "\n",
    "    :param video_id: The video ID to wait for\n",
    "    :param language: The language to translate video insights\n",
    "    '''\n",
    "    accountId = os.getenv('AZURE_VIDEO_INDEXER_ACCOUNT_ID')\n",
    "    access_token = get_access_token()\n",
    "    url = f'https://api.videoindexer.ai/eastus/Accounts/{accountId}/Videos/{video_id}/Index'\n",
    "\n",
    "    params = {\n",
    "        'accessToken': access_token\n",
    "    }\n",
    "\n",
    "    print(f'Checking if video {video_id} has finished indexing...')\n",
    "    processing = True\n",
    "    start_time = time.time()\n",
    "    while processing:\n",
    "        response = requests.get(url, params=params)\n",
    "\n",
    "        response.raise_for_status()\n",
    "\n",
    "        video_result = response.json()\n",
    "        video_state = video_result.get('state')\n",
    "\n",
    "        if video_state == 'Processed':\n",
    "            processing = False\n",
    "            print(f'The video index has completed. Here is the full JSON of the index for video ID {video_id}: \\n{video_result}')\n",
    "            video_insights = video_result\n",
    "            transcripts = video_insights.get('videos')[0].get('insights').get('transcript')\n",
    "            print(\"transcripts\", transcripts)\n",
    "            context = ' '.join([transcript['text'] for transcript in transcripts])\n",
    "            context += ' \\n '\n",
    "            \n",
    "            while True:\n",
    "                user_question = input(\"Please enter your question (or type 'exit' to finish): \")\n",
    "                if user_question.lower() == 'exit':\n",
    "                    break\n",
    "                answer = ask_question_on_video(video_id, user_question, context)\n",
    "                print(f\"Answer: {answer}\")\n",
    "            \n",
    "        elif video_state == 'Failed':\n",
    "            processing = False\n",
    "            print(f\"The video index failed for video ID {video_id}.\")\n",
    "            break\n",
    "\n",
    "        print(f'The video index state is {video_state}')\n",
    " \n",
    "        time.sleep(10)\n"
   ]
  },
  {
   "cell_type": "markdown",
   "metadata": {},
   "source": [
    "### Get Video Indexing using video id, recieved in response of Upload video indexing API"
   ]
  },
  {
   "cell_type": "code",
   "execution_count": 63,
   "metadata": {},
   "outputs": [],
   "source": [
    "# get video index using video id got from uploading video for indexing\n",
    "from pprint import pprint\n",
    "import urllib.request\n",
    "import json\n",
    "\n",
    "########### Python 3.2 #############\n",
    "def get_video_indexing(video_id):\n",
    "    try:\n",
    "        access_token = get_access_token()\n",
    "        accountId = os.getenv('AZURE_VIDEO_INDEXER_ACCOUNT_ID')\n",
    "        url = f\"https://api.videoindexer.ai/eastus/Accounts/{accountId}/Videos/{video_id}/Index?includeSummarizedInsights=true&accessToken={access_token}\"\n",
    "\n",
    "        hdr ={\n",
    "        # Request headers\n",
    "        'Cache-Control': 'no-cache',\n",
    "        'Ocp-Apim-Subscription-Key': os.getenv('AZURE_VIDEO_INDEXER_OCM_SUBSCRIPTION_KEY'),\n",
    "        }\n",
    "\n",
    "        req = urllib.request.Request(url, headers=hdr)\n",
    "\n",
    "        req.get_method = lambda: 'GET'\n",
    "        response = urllib.request.urlopen(req)\n",
    "        response_data = response.read().decode(\"utf-8\")\n",
    "        response_json = json.loads(response_data)\n",
    "        return response_json\n",
    "\n",
    "    except Exception as e:\n",
    "        print(e)  \n",
    "####################################"
   ]
  },
  {
   "cell_type": "markdown",
   "metadata": {},
   "source": [
    "### Main Python Code:"
   ]
  },
  {
   "cell_type": "code",
   "execution_count": 64,
   "metadata": {},
   "outputs": [
    {
     "name": "stdout",
     "output_type": "stream",
     "text": [
      "Checking if video xo2go3wk9v has finished indexing...\n",
      "The video index has completed. Here is the full JSON of the index for video ID xo2go3wk9v: \n",
      "{'partition': None, 'description': None, 'privacyMode': 'Private', 'state': 'Processed', 'accountId': '1d0b01cc-6f4b-48ad-bb1e-a028d29163a6', 'id': 'xo2go3wk9v', 'name': 'test-844', 'userName': ' ', 'created': '2024-12-24T07:32:15.29+00:00', 'isOwned': True, 'isEditable': True, 'isBase': True, 'durationInSeconds': 698, 'duration': '0:11:38.681', 'summarizedInsights': {'name': 'test-844', 'id': 'xo2go3wk9v', 'privacyMode': 'Private', 'duration': {'time': '0:11:38.681', 'seconds': 698.7}, 'thumbnailVideoId': 'xo2go3wk9v', 'thumbnailId': '00000000-0000-0000-0000-000000000000', 'faces': [], 'keywords': [{'isTranscript': True, 'id': 1, 'name': 'totally fine', 'appearances': [{'startTime': '0:05:49.8', 'endTime': '0:06:17.32', 'startSeconds': 349.8, 'endSeconds': 377.3}, {'startTime': '0:06:52.96', 'endTime': '0:07:18.92', 'startSeconds': 413, 'endSeconds': 438.9}]}, {'isTranscript': True, 'id': 2, 'name': 'pdf download', 'appearances': [{'startTime': '0:02:20.92', 'endTime': '0:02:44.64', 'startSeconds': 140.9, 'endSeconds': 164.6}, {'startTime': '0:08:19.88', 'endTime': '0:08:40.48', 'startSeconds': 499.9, 'endSeconds': 520.5}, {'startTime': '0:11:20.28', 'endTime': '0:11:32.68', 'startSeconds': 680.3, 'endSeconds': 692.7}]}, {'isTranscript': True, 'id': 3, 'name': 'download', 'appearances': [{'startTime': '0:02:20.92', 'endTime': '0:02:44.64', 'startSeconds': 140.9, 'endSeconds': 164.6}, {'startTime': '0:08:19.88', 'endTime': '0:08:40.48', 'startSeconds': 499.9, 'endSeconds': 520.5}, {'startTime': '0:11:20.28', 'endTime': '0:11:30.36', 'startSeconds': 680.3, 'endSeconds': 690.4}]}, {'isTranscript': True, 'id': 4, 'name': 'rule', 'appearances': [{'startTime': '0:04:19.76', 'endTime': '0:04:32.64', 'startSeconds': 259.8, 'endSeconds': 272.6}]}, {'isTranscript': True, 'id': 5, 'name': 'thumb', 'appearances': [{'startTime': '0:04:19.76', 'endTime': '0:04:32.64', 'startSeconds': 259.8, 'endSeconds': 272.6}]}, {'isTranscript': True, 'id': 6, 'name': 'fact', 'appearances': [{'startTime': '0:00:33.12', 'endTime': '0:01:30.68', 'startSeconds': 33.1, 'endSeconds': 90.7}, {'startTime': '0:04:32.8', 'endTime': '0:05:24.2', 'startSeconds': 272.8, 'endSeconds': 324.2}]}, {'isTranscript': True, 'id': 7, 'name': 'topics', 'appearances': [{'startTime': '0:07:56.24', 'endTime': '0:08:40.48', 'startSeconds': 476.2, 'endSeconds': 520.5}, {'startTime': '0:11:20.28', 'endTime': '0:11:30.36', 'startSeconds': 680.3, 'endSeconds': 690.4}]}, {'isTranscript': True, 'id': 8, 'name': 'start', 'appearances': [{'startTime': '0:00:33.12', 'endTime': '0:01:30.68', 'startSeconds': 33.1, 'endSeconds': 90.7}, {'startTime': '0:01:49.88', 'endTime': '0:01:59.44', 'startSeconds': 109.9, 'endSeconds': 119.4}, {'startTime': '0:03:54.24', 'endTime': '0:04:19.6', 'startSeconds': 234.2, 'endSeconds': 259.6}]}, {'isTranscript': True, 'id': 9, 'name': 'confidence', 'appearances': [{'startTime': '0:00:33.12', 'endTime': '0:01:30.68', 'startSeconds': 33.1, 'endSeconds': 90.7}, {'startTime': '0:03:50.32', 'endTime': '0:03:50.92', 'startSeconds': 230.3, 'endSeconds': 230.9}]}, {'isTranscript': True, 'id': 10, 'name': '100 days', 'appearances': [{'startTime': '0:01:49.88', 'endTime': '0:01:59.44', 'startSeconds': 109.9, 'endSeconds': 119.4}, {'startTime': '0:02:50.68', 'endTime': '0:03:09.24', 'startSeconds': 170.7, 'endSeconds': 189.2}, {'startTime': '0:03:54.24', 'endTime': '0:04:19.6', 'startSeconds': 234.2, 'endSeconds': 259.6}, {'startTime': '0:04:32.8', 'endTime': '0:05:24.2', 'startSeconds': 272.8, 'endSeconds': 324.2}, {'startTime': '0:08:19.88', 'endTime': '0:08:40.48', 'startSeconds': 499.9, 'endSeconds': 520.5}, {'startTime': '0:11:20.28', 'endTime': '0:11:30.36', 'startSeconds': 680.3, 'endSeconds': 690.4}]}, {'isTranscript': True, 'id': 11, 'name': 'basic', 'appearances': [{'startTime': '0:00:00.24', 'endTime': '0:00:27.32', 'startSeconds': 0.2, 'endSeconds': 27.3}, {'startTime': '0:00:33.12', 'endTime': '0:01:30.68', 'startSeconds': 33.1, 'endSeconds': 90.7}, {'startTime': '0:04:32.8', 'endTime': '0:05:24.2', 'startSeconds': 272.8, 'endSeconds': 324.2}, {'startTime': '0:06:20.12', 'endTime': '0:06:33.44', 'startSeconds': 380.1, 'endSeconds': 393.4}]}, {'isTranscript': True, 'id': 12, 'name': 'reason', 'appearances': [{'startTime': '0:06:52.96', 'endTime': '0:07:18.92', 'startSeconds': 413, 'endSeconds': 438.9}, {'startTime': '0:07:51.08', 'endTime': '0:07:56.2', 'startSeconds': 471.1, 'endSeconds': 476.2}]}, {'isTranscript': True, 'id': 13, 'name': 'learning', 'appearances': [{'startTime': '0:06:20.12', 'endTime': '0:06:33.44', 'startSeconds': 380.1, 'endSeconds': 393.4}, {'startTime': '0:07:56.24', 'endTime': '0:08:17.72', 'startSeconds': 476.2, 'endSeconds': 497.7}]}, {'isTranscript': True, 'id': 14, 'name': 'projects', 'appearances': [{'startTime': '0:08:19.88', 'endTime': '0:08:40.48', 'startSeconds': 499.9, 'endSeconds': 520.5}, {'startTime': '0:09:01.36', 'endTime': '0:10:15.8', 'startSeconds': 541.4, 'endSeconds': 615.8}, {'startTime': '0:10:23', 'endTime': '0:11:14.64', 'startSeconds': 623, 'endSeconds': 674.6}]}, {'isTranscript': True, 'id': 15, 'name': 'video', 'appearances': [{'startTime': '0:11:32.92', 'endTime': '0:11:38.64', 'startSeconds': 692.9, 'endSeconds': 698.6}]}], 'sentiments': [{'sentimentKey': 'Neutral', 'seenDurationRatio': 0.8891, 'appearances': [{'startTime': '0:00:00', 'endTime': '0:00:33.12', 'startSeconds': 0, 'endSeconds': 33.1}, {'startTime': '0:01:30.68', 'endTime': '0:02:01.04', 'startSeconds': 90.7, 'endSeconds': 121}, {'startTime': '0:02:20.92', 'endTime': '0:11:38.681', 'startSeconds': 140.9, 'endSeconds': 698.7}]}, {'sentimentKey': 'Positive', 'seenDurationRatio': 0.1109, 'appearances': [{'startTime': '0:00:33.12', 'endTime': '0:01:30.68', 'startSeconds': 33.1, 'endSeconds': 90.7}, {'startTime': '0:02:01.04', 'endTime': '0:02:20.92', 'startSeconds': 121, 'endSeconds': 140.9}]}], 'emotions': [{'type': 'Joy', 'seenDurationRatio': 0.1109, 'appearances': [{'startTime': '0:00:33.12', 'endTime': '0:01:30.68', 'startSeconds': 33.1, 'endSeconds': 90.7}, {'startTime': '0:02:01.04', 'endTime': '0:02:20.92', 'startSeconds': 121, 'endSeconds': 140.9}]}], 'audioEffects': [], 'labels': [], 'framePatterns': [], 'brands': [{'referenceId': 'Indian_Railways', 'referenceUrl': 'http://en.wikipedia.org/wiki/Indian_Railways', 'confidence': 0.77, 'description': \"Indian Railways (reporting mark IR) is an Indian state-owned enterprise, owned and operated by the Government of India through the Ministry of Railways. It is one of the world's largest railway networks comprising 115,000 km (71,000 mi) of track over a route of 65,808 km (40,891 mi) and 7,112 stations.\", 'seenDuration': 51.6, 'id': 1, 'name': 'Indian Railways', 'appearances': [{'startTime': '0:10:23', 'endTime': '0:11:14.64', 'startSeconds': 623, 'endSeconds': 674.6}]}], 'namedLocations': [], 'namedPeople': [{'referenceId': None, 'referenceUrl': None, 'confidence': 0.56, 'description': None, 'seenDuration': 51.4, 'id': 1, 'name': 'Yeh Ali', 'appearances': [{'startTime': '0:04:32.8', 'endTime': '0:05:24.2', 'startSeconds': 272.8, 'endSeconds': 324.2}]}], 'statistics': {'correspondenceCount': 0, 'speakerTalkToListenRatio': {'1': 1}, 'speakerLongestMonolog': {'1': 545}, 'speakerNumberOfFragments': {'1': 26}, 'speakerWordCount': {'1': 316}}, 'topics': [{'referenceUrl': None, 'iptcName': 'economy, business and finance/economic sector/computing and information technology/software', 'iabName': 'Technology & Computing', 'confidence': 0.802, 'id': 1, 'name': 'Technology/Software and Applications/Python 3', 'appearances': [{'startTime': '0:00:33.12', 'endTime': '0:01:30.68', 'startSeconds': 33.1, 'endSeconds': 90.7}]}, {'referenceUrl': None, 'iptcName': 'education', 'iabName': 'Education', 'confidence': 0.7562, 'id': 2, 'name': 'Education', 'appearances': [{'startTime': '0:01:49.88', 'endTime': '0:02:44.64', 'startSeconds': 109.9, 'endSeconds': 164.6}, {'startTime': '0:05:49.8', 'endTime': '0:06:33.44', 'startSeconds': 349.8, 'endSeconds': 393.4}, {'startTime': '0:07:51.08', 'endTime': '0:08:40.48', 'startSeconds': 471.1, 'endSeconds': 520.5}]}, {'referenceUrl': None, 'iptcName': 'science and technology', 'iabName': 'Education', 'confidence': 0.7177, 'id': 3, 'name': 'Education/Technology', 'appearances': [{'startTime': '0:00:33.12', 'endTime': '0:03:09.24', 'startSeconds': 33.1, 'endSeconds': 189.2}, {'startTime': '0:03:21.24', 'endTime': '0:03:36', 'startSeconds': 201.2, 'endSeconds': 216}, {'startTime': '0:05:49.8', 'endTime': '0:06:33.44', 'startSeconds': 349.8, 'endSeconds': 393.4}, {'startTime': '0:06:52.96', 'endTime': '0:07:18.92', 'startSeconds': 413, 'endSeconds': 438.9}, {'startTime': '0:07:51.08', 'endTime': '0:08:40.48', 'startSeconds': 471.1, 'endSeconds': 520.5}, {'startTime': '0:09:01.36', 'endTime': '0:11:38.64', 'startSeconds': 541.4, 'endSeconds': 698.6}]}, {'referenceUrl': None, 'iptcName': 'education/school/college and university/university', 'iabName': 'Education', 'confidence': 0.7097, 'id': 4, 'name': 'Education/Major Concepts in Education/Udacity', 'appearances': [{'startTime': '0:01:49.88', 'endTime': '0:02:44.64', 'startSeconds': 109.9, 'endSeconds': 164.6}, {'startTime': '0:05:49.8', 'endTime': '0:06:33.44', 'startSeconds': 349.8, 'endSeconds': 393.4}, {'startTime': '0:07:51.08', 'endTime': '0:08:40.48', 'startSeconds': 471.1, 'endSeconds': 520.5}]}, {'referenceUrl': None, 'iptcName': 'education/online and remote learning', 'iabName': 'Education', 'confidence': 0.6901, 'id': 5, 'name': 'Education/Major Concepts in Education/Open Online Courses', 'appearances': [{'startTime': '0:01:49.88', 'endTime': '0:02:44.64', 'startSeconds': 109.9, 'endSeconds': 164.6}, {'startTime': '0:05:49.8', 'endTime': '0:06:33.44', 'startSeconds': 349.8, 'endSeconds': 393.4}, {'startTime': '0:07:51.08', 'endTime': '0:08:40.48', 'startSeconds': 471.1, 'endSeconds': 520.5}]}, {'referenceUrl': None, 'iptcName': 'education/teaching and learning', 'iabName': 'Education', 'confidence': 0.6596, 'id': 6, 'name': 'Education/Learning New Things', 'appearances': [{'startTime': '0:01:49.88', 'endTime': '0:02:44.64', 'startSeconds': 109.9, 'endSeconds': 164.6}, {'startTime': '0:05:49.8', 'endTime': '0:06:33.44', 'startSeconds': 349.8, 'endSeconds': 393.4}, {'startTime': '0:07:51.08', 'endTime': '0:08:40.48', 'startSeconds': 471.1, 'endSeconds': 520.5}]}, {'referenceUrl': None, 'iptcName': 'science and technology/social sciences/linguistics', 'iabName': 'Books and Literature', 'confidence': 0.6511, 'id': 7, 'name': 'History/Science/Linguistics', 'appearances': [{'startTime': '0:00:33.12', 'endTime': '0:01:30.68', 'startSeconds': 33.1, 'endSeconds': 90.7}, {'startTime': '0:07:30.48', 'endTime': '0:07:44.84', 'startSeconds': 450.5, 'endSeconds': 464.8}]}, {'referenceUrl': None, 'iptcName': 'science and technology/technology and engineering/information technology and computer science/artificial intelligence', 'iabName': 'Science', 'confidence': 0.574, 'id': 8, 'name': 'Science/Mathematics/Machine Learning', 'appearances': [{'startTime': '0:01:49.88', 'endTime': '0:02:44.64', 'startSeconds': 109.9, 'endSeconds': 164.6}, {'startTime': '0:07:51.08', 'endTime': '0:08:40.48', 'startSeconds': 471.1, 'endSeconds': 520.5}]}, {'referenceUrl': None, 'iptcName': 'economy, business and finance/economic sector/computing and information technology/computer security', 'iabName': 'Technology & Computing', 'confidence': 0.567, 'id': 9, 'name': 'Technology/Computer S', 'appearances': [{'startTime': '0:00:33.12', 'endTime': '0:01:30.68', 'startSeconds': 33.1, 'endSeconds': 90.7}, {'startTime': '0:09:01.36', 'endTime': '0:10:15.8', 'startSeconds': 541.4, 'endSeconds': 615.8}]}, {'referenceUrl': None, 'iptcName': 'science and technology/social sciences/linguistics', 'iabName': 'Science', 'confidence': 0.5657, 'id': 10, 'name': 'Science/Computational Linguistics', 'appearances': [{'startTime': '0:00:33.12', 'endTime': '0:01:30.68', 'startSeconds': 33.1, 'endSeconds': 90.7}]}, {'referenceUrl': None, 'iptcName': 'economy, business and finance/economic sector/computing and information technology/software', 'iabName': 'Technology & Computing', 'confidence': 0.5227, 'id': 11, 'name': 'Technology/Software and Applications/Javascript Programming Language', 'appearances': [{'startTime': '0:05:49.8', 'endTime': '0:06:33.44', 'startSeconds': 349.8, 'endSeconds': 393.4}]}, {'referenceUrl': None, 'iptcName': 'science and technology/social sciences/linguistics', 'iabName': 'Science', 'confidence': 0.5009, 'id': 12, 'name': 'Science/Natural Language Processing', 'appearances': [{'startTime': '0:00:33.12', 'endTime': '0:01:30.68', 'startSeconds': 33.1, 'endSeconds': 90.7}]}]}, 'videos': [{'accountId': '1d0b01cc-6f4b-48ad-bb1e-a028d29163a6', 'id': 'xo2go3wk9v', 'state': 'Processed', 'moderationState': 'OK', 'reviewState': 'None', 'privacyMode': 'Private', 'processingProgress': '100%', 'failureMessage': '', 'externalId': None, 'externalUrl': None, 'metadata': None, 'insights': {'version': '1.0.0.0', 'duration': '0:11:38.681', 'sourceLanguage': 'en-US', 'sourceLanguages': ['en-US'], 'language': 'en-US', 'languages': ['en-US'], 'transcript': [{'id': 1, 'text': 'Average Python developer dose daslak rupee per annum, other difference basically skill set.', 'confidence': 0.4632, 'speakerId': 1, 'language': 'en-US', 'instances': [{'adjustedStart': '0:00:00.24', 'adjustedEnd': '0:00:27.32', 'start': '0:00:00.24', 'end': '0:00:27.32'}]}, {'id': 2, 'text': 'Start confidence boost aajma Python 1991 may develop Monty Python circus March 2024 key TOB index Python at the top end Python is the most loved language in fact language of the year about those are satme, those are dasme, those are Tara me, those are ikismi, those are Python programming journey and you feel Kyar you are stuck SM programming basic signature programming.', 'confidence': 0.5817, 'speakerId': 1, 'language': 'en-US', 'instances': [{'adjustedStart': '0:00:33.12', 'adjustedEnd': '0:01:30.68', 'start': '0:00:33.12', 'end': '0:01:30.68'}]}, {'id': 3, 'text': 'Now this is very important.', 'confidence': 0.7288, 'speakerId': 1, 'language': 'en-US', 'instances': [{'adjustedStart': '0:01:35.04', 'adjustedEnd': '0:01:44.84', 'start': '0:01:35.04', 'end': '0:01:44.84'}]}, {'id': 4, 'text': 'Start, start 100 days.', 'confidence': 0.4255, 'speakerId': 1, 'language': 'en-US', 'instances': [{'adjustedStart': '0:01:49.88', 'adjustedEnd': '0:01:59.44', 'start': '0:01:49.88', 'end': '0:01:59.44'}]}, {'id': 5, 'text': 'Of course.', 'confidence': 0.4141, 'speakerId': 1, 'language': 'en-US', 'instances': [{'adjustedStart': '0:01:59.44', 'adjustedEnd': '0:02:00.32', 'start': '0:01:59.44', 'end': '0:02:00.32'}]}, {'id': 6, 'text': \"It's an amazing course, millions of learners, very handwritten notes.\", 'confidence': 0.5612, 'speakerId': 1, 'language': 'en-US', 'instances': [{'adjustedStart': '0:02:01.04', 'adjustedEnd': '0:02:20.92', 'start': '0:02:01.04', 'end': '0:02:20.92'}]}, {'id': 7, 'text': 'Python download description with download.', 'confidence': 0.3669, 'speakerId': 1, 'language': 'en-US', 'instances': [{'adjustedStart': '0:02:20.92', 'adjustedEnd': '0:02:44.64', 'start': '0:02:20.92', 'end': '0:02:44.64'}]}, {'id': 8, 'text': 'Dot com reliable service 100 days of mobile app.', 'confidence': 0.354, 'speakerId': 1, 'language': 'en-US', 'instances': [{'adjustedStart': '0:02:50.68', 'adjustedEnd': '0:03:09.24', 'start': '0:02:50.68', 'end': '0:03:09.24'}]}, {'id': 9, 'text': 'Phone, maybe travel, something is better than nothing.', 'confidence': 0.4656, 'speakerId': 1, 'language': 'en-US', 'instances': [{'adjustedStart': '0:03:21.24', 'adjustedEnd': '0:03:36', 'start': '0:03:21.24', 'end': '0:03:36'}]}, {'id': 10, 'text': 'Confidence.', 'confidence': 0.6535, 'speakerId': 1, 'language': 'en-US', 'instances': [{'adjustedStart': '0:03:50.32', 'adjustedEnd': '0:03:50.92', 'start': '0:03:50.32', 'end': '0:03:50.92'}]}, {'id': 11, 'text': 'Merely heavy programming.', 'confidence': 0.4391, 'speakerId': 1, 'language': 'en-US', 'instances': [{'adjustedStart': '0:03:51.4', 'adjustedEnd': '0:03:53.64', 'start': '0:03:51.4', 'end': '0:03:53.64'}]}, {'id': 12, 'text': 'Initial days Start programming.', 'confidence': 0.431, 'speakerId': 1, 'language': 'en-US', 'instances': [{'adjustedStart': '0:03:54.24', 'adjustedEnd': '0:04:19.6', 'start': '0:03:54.24', 'end': '0:04:19.6'}]}, {'id': 13, 'text': 'Excuse me rule of thumb Rule of thumb definitely was the useful.', 'confidence': 0.4788, 'speakerId': 1, 'language': 'en-US', 'instances': [{'adjustedStart': '0:04:19.76', 'adjustedEnd': '0:04:32.64', 'start': '0:04:19.76', 'end': '0:04:32.64'}]}, {'id': 14, 'text': 'In fact, most of the people something is missing in life to Yeh Ali feeling up enjoy exercise health benefits, which is worth it 100 days of as far as basic but basics programs.', 'confidence': 0.4841, 'speakerId': 1, 'language': 'en-US', 'instances': [{'adjustedStart': '0:04:32.8', 'adjustedEnd': '0:05:24.2', 'start': '0:04:32.8', 'end': '0:05:24.2'}]}, {'id': 15, 'text': \"Then it's totally fine.\", 'confidence': 0.7248, 'speakerId': 1, 'language': 'en-US', 'instances': [{'adjustedStart': '0:05:49.8', 'adjustedEnd': '0:06:00.36', 'start': '0:05:49.8', 'end': '0:06:00.36'}]}, {'id': 16, 'text': \"It's totally fine.\", 'confidence': 0.5605, 'speakerId': 1, 'language': 'en-US', 'instances': [{'adjustedStart': '0:06:01.72', 'adjustedEnd': '0:06:17.32', 'start': '0:06:01.72', 'end': '0:06:17.32'}]}, {'id': 17, 'text': 'Basic Python learning get and get.', 'confidence': 0.3593, 'speakerId': 1, 'language': 'en-US', 'instances': [{'adjustedStart': '0:06:20.12', 'adjustedEnd': '0:06:33.44', 'start': '0:06:20.12', 'end': '0:06:33.44'}]}, {'id': 18, 'text': \"For some reason, particular technology and it's totally normal.\", 'confidence': 0.5975, 'speakerId': 1, 'language': 'en-US', 'instances': [{'adjustedStart': '0:06:52.96', 'adjustedEnd': '0:07:18.92', 'start': '0:06:52.96', 'end': '0:07:18.92'}]}, {'id': 19, 'text': 'Primary language Hindi.', 'confidence': 0.7569, 'speakerId': 1, 'language': 'en-US', 'instances': [{'adjustedStart': '0:07:30.48', 'adjustedEnd': '0:07:44.84', 'start': '0:07:30.48', 'end': '0:07:44.84'}]}, {'id': 20, 'text': 'Or for any reason.', 'confidence': 0.5456, 'speakerId': 1, 'language': 'en-US', 'instances': [{'adjustedStart': '0:07:51.08', 'adjustedEnd': '0:07:56.2', 'start': '0:07:51.08', 'end': '0:07:56.2'}]}, {'id': 21, 'text': 'It might not be me, it might be you learning that is going to work in your favor or in topics.', 'confidence': 0.6981, 'speakerId': 1, 'language': 'en-US', 'instances': [{'adjustedStart': '0:07:56.24', 'adjustedEnd': '0:08:17.72', 'start': '0:07:56.24', 'end': '0:08:17.72'}]}, {'id': 22, 'text': '100 days of code Topics, Projects, practice questions, Topics PDF download.', 'confidence': 0.542, 'speakerId': 1, 'language': 'en-US', 'instances': [{'adjustedStart': '0:08:19.88', 'adjustedEnd': '0:08:40.48', 'start': '0:08:19.88', 'end': '0:08:40.48'}]}, {'id': 23, 'text': 'AI code suggestions initially, then complete Carnegie projects software development as a beginner intermediate programmer, I think paid plan free alternative machine machinepowerful.edu e-mail ID.', 'confidence': 0.4004, 'speakerId': 1, 'language': 'en-US', 'instances': [{'adjustedStart': '0:09:01.36', 'adjustedEnd': '0:10:15.8', 'start': '0:09:01.36', 'end': '0:10:15.8'}]}, {'id': 24, 'text': 'Primarily Python, Flappy Bird game from scratch Indian railway announcement system, DRS system projects.', 'confidence': 0.5198, 'speakerId': 1, 'language': 'en-US', 'instances': [{'adjustedStart': '0:10:23', 'adjustedEnd': '0:11:14.64', 'start': '0:10:23', 'end': '0:11:14.64'}]}, {'id': 25, 'text': 'PDF download their own description topics step by step topics 100 days of topics here.', 'confidence': 0.5646, 'speakerId': 1, 'language': 'en-US', 'instances': [{'adjustedStart': '0:11:20.28', 'adjustedEnd': '0:11:30.36', 'start': '0:11:20.28', 'end': '0:11:30.36'}]}, {'id': 26, 'text': 'But again PDF description with.', 'confidence': 0.5598, 'speakerId': 1, 'language': 'en-US', 'instances': [{'adjustedStart': '0:11:30.4', 'adjustedEnd': '0:11:32.68', 'start': '0:11:30.4', 'end': '0:11:32.68'}]}, {'id': 27, 'text': 'I hope this video was helpful.', 'confidence': 0.8801, 'speakerId': 1, 'language': 'en-US', 'instances': [{'adjustedStart': '0:11:32.92', 'adjustedEnd': '0:11:34.32', 'start': '0:11:32.92', 'end': '0:11:34.32'}]}, {'id': 28, 'text': 'Thank you so much guys for watching this video and I will see you next time.', 'confidence': 0.9771, 'speakerId': 1, 'language': 'en-US', 'instances': [{'adjustedStart': '0:11:34.4', 'adjustedEnd': '0:11:38.64', 'start': '0:11:34.4', 'end': '0:11:38.64'}]}], 'keywords': [{'id': 1, 'text': 'totally fine', 'confidence': 0.9847, 'language': 'en-US', 'instances': [{'adjustedStart': '0:05:49.8', 'adjustedEnd': '0:06:00.36', 'start': '0:05:49.8', 'end': '0:06:00.36'}, {'adjustedStart': '0:06:01.72', 'adjustedEnd': '0:06:17.32', 'start': '0:06:01.72', 'end': '0:06:17.32'}]}, {'id': 2, 'text': 'pdf download', 'confidence': 0.976, 'language': 'en-US', 'instances': [{'adjustedStart': '0:08:19.88', 'adjustedEnd': '0:08:40.48', 'start': '0:08:19.88', 'end': '0:08:40.48'}, {'adjustedStart': '0:11:20.28', 'adjustedEnd': '0:11:30.36', 'start': '0:11:20.28', 'end': '0:11:30.36'}]}, {'id': 3, 'text': 'download', 'confidence': 0.7217, 'language': 'en-US', 'instances': [{'adjustedStart': '0:02:20.92', 'adjustedEnd': '0:02:44.64', 'start': '0:02:20.92', 'end': '0:02:44.64'}, {'adjustedStart': '0:08:19.88', 'adjustedEnd': '0:08:40.48', 'start': '0:08:19.88', 'end': '0:08:40.48'}, {'adjustedStart': '0:11:20.28', 'adjustedEnd': '0:11:30.36', 'start': '0:11:20.28', 'end': '0:11:30.36'}]}, {'id': 4, 'text': 'rule', 'confidence': 0.7217, 'language': 'en-US', 'instances': [{'adjustedStart': '0:04:19.76', 'adjustedEnd': '0:04:32.64', 'start': '0:04:19.76', 'end': '0:04:32.64'}]}, {'id': 5, 'text': 'thumb', 'confidence': 0.7217, 'language': 'en-US', 'instances': [{'adjustedStart': '0:04:19.76', 'adjustedEnd': '0:04:32.64', 'start': '0:04:19.76', 'end': '0:04:32.64'}]}, {'id': 6, 'text': 'fact', 'confidence': 0.7217, 'language': 'en-US', 'instances': [{'adjustedStart': '0:00:33.12', 'adjustedEnd': '0:01:30.68', 'start': '0:00:33.12', 'end': '0:01:30.68'}, {'adjustedStart': '0:04:32.8', 'adjustedEnd': '0:05:24.2', 'start': '0:04:32.8', 'end': '0:05:24.2'}]}, {'id': 7, 'text': 'topics', 'confidence': 0.69, 'language': 'en-US', 'instances': [{'adjustedStart': '0:07:56.24', 'adjustedEnd': '0:08:17.72', 'start': '0:07:56.24', 'end': '0:08:17.72'}, {'adjustedStart': '0:08:19.88', 'adjustedEnd': '0:08:40.48', 'start': '0:08:19.88', 'end': '0:08:40.48'}, {'adjustedStart': '0:11:20.28', 'adjustedEnd': '0:11:30.36', 'start': '0:11:20.28', 'end': '0:11:30.36'}]}, {'id': 8, 'text': 'start', 'confidence': 0.6211, 'language': 'en-US', 'instances': [{'adjustedStart': '0:00:33.12', 'adjustedEnd': '0:01:30.68', 'start': '0:00:33.12', 'end': '0:01:30.68'}, {'adjustedStart': '0:01:49.88', 'adjustedEnd': '0:01:59.44', 'start': '0:01:49.88', 'end': '0:01:59.44'}, {'adjustedStart': '0:03:54.24', 'adjustedEnd': '0:04:19.6', 'start': '0:03:54.24', 'end': '0:04:19.6'}]}, {'id': 9, 'text': 'confidence', 'confidence': 0.6211, 'language': 'en-US', 'instances': [{'adjustedStart': '0:00:33.12', 'adjustedEnd': '0:01:30.68', 'start': '0:00:33.12', 'end': '0:01:30.68'}, {'adjustedStart': '0:03:50.32', 'adjustedEnd': '0:03:50.92', 'start': '0:03:50.32', 'end': '0:03:50.92'}]}, {'id': 10, 'text': '100 days', 'confidence': 0.6211, 'language': 'en-US', 'instances': [{'adjustedStart': '0:01:49.88', 'adjustedEnd': '0:01:59.44', 'start': '0:01:49.88', 'end': '0:01:59.44'}, {'adjustedStart': '0:02:50.68', 'adjustedEnd': '0:03:09.24', 'start': '0:02:50.68', 'end': '0:03:09.24'}, {'adjustedStart': '0:04:32.8', 'adjustedEnd': '0:05:24.2', 'start': '0:04:32.8', 'end': '0:05:24.2'}, {'adjustedStart': '0:08:19.88', 'adjustedEnd': '0:08:40.48', 'start': '0:08:19.88', 'end': '0:08:40.48'}, {'adjustedStart': '0:11:20.28', 'adjustedEnd': '0:11:30.36', 'start': '0:11:20.28', 'end': '0:11:30.36'}]}, {'id': 11, 'text': 'basic', 'confidence': 0.6211, 'language': 'en-US', 'instances': [{'adjustedStart': '0:00:00.24', 'adjustedEnd': '0:00:27.32', 'start': '0:00:00.24', 'end': '0:00:27.32'}, {'adjustedStart': '0:00:33.12', 'adjustedEnd': '0:01:30.68', 'start': '0:00:33.12', 'end': '0:01:30.68'}, {'adjustedStart': '0:04:32.8', 'adjustedEnd': '0:05:24.2', 'start': '0:04:32.8', 'end': '0:05:24.2'}, {'adjustedStart': '0:06:20.12', 'adjustedEnd': '0:06:33.44', 'start': '0:06:20.12', 'end': '0:06:33.44'}]}, {'id': 12, 'text': 'reason', 'confidence': 0.6211, 'language': 'en-US', 'instances': [{'adjustedStart': '0:06:52.96', 'adjustedEnd': '0:07:18.92', 'start': '0:06:52.96', 'end': '0:07:18.92'}, {'adjustedStart': '0:07:51.08', 'adjustedEnd': '0:07:56.2', 'start': '0:07:51.08', 'end': '0:07:56.2'}]}, {'id': 13, 'text': 'learning', 'confidence': 0.6211, 'language': 'en-US', 'instances': [{'adjustedStart': '0:06:20.12', 'adjustedEnd': '0:06:33.44', 'start': '0:06:20.12', 'end': '0:06:33.44'}, {'adjustedStart': '0:07:56.24', 'adjustedEnd': '0:08:17.72', 'start': '0:07:56.24', 'end': '0:08:17.72'}]}, {'id': 14, 'text': 'projects', 'confidence': 0.6211, 'language': 'en-US', 'instances': [{'adjustedStart': '0:08:19.88', 'adjustedEnd': '0:08:40.48', 'start': '0:08:19.88', 'end': '0:08:40.48'}, {'adjustedStart': '0:09:01.36', 'adjustedEnd': '0:10:15.8', 'start': '0:09:01.36', 'end': '0:10:15.8'}, {'adjustedStart': '0:10:23', 'adjustedEnd': '0:11:14.64', 'start': '0:10:23', 'end': '0:11:14.64'}]}, {'id': 15, 'text': 'video', 'confidence': 0.6211, 'language': 'en-US', 'instances': [{'adjustedStart': '0:11:32.92', 'adjustedEnd': '0:11:34.32', 'start': '0:11:32.92', 'end': '0:11:34.32'}, {'adjustedStart': '0:11:34.4', 'adjustedEnd': '0:11:38.64', 'start': '0:11:34.4', 'end': '0:11:38.64'}]}], 'topics': [{'id': 1, 'name': 'Python 3', 'referenceId': 'Technology/Software and Applications/Python 3', 'referenceType': 'VideoIndexer', 'iptcName': 'economy, business and finance/economic sector/computing and information technology/software', 'confidence': 0.802, 'iabName': 'Technology & Computing', 'language': 'en-US', 'instances': [{'adjustedStart': '0:00:33.12', 'adjustedEnd': '0:01:30.68', 'start': '0:00:33.12', 'end': '0:01:30.68'}]}, {'id': 2, 'name': 'Education', 'referenceId': 'Education', 'referenceType': 'VideoIndexer', 'iptcName': 'education', 'confidence': 0.7562, 'iabName': 'Education', 'language': 'en-US', 'instances': [{'adjustedStart': '0:01:49.88', 'adjustedEnd': '0:02:44.64', 'start': '0:01:49.88', 'end': '0:02:44.64'}, {'adjustedStart': '0:05:49.8', 'adjustedEnd': '0:06:33.44', 'start': '0:05:49.8', 'end': '0:06:33.44'}, {'adjustedStart': '0:07:51.08', 'adjustedEnd': '0:08:40.48', 'start': '0:07:51.08', 'end': '0:08:40.48'}]}, {'id': 3, 'name': 'Technology', 'referenceId': 'Education/Technology', 'referenceType': 'VideoIndexer', 'iptcName': 'science and technology', 'confidence': 0.7177, 'iabName': 'Education', 'language': 'en-US', 'instances': [{'adjustedStart': '0:00:33.12', 'adjustedEnd': '0:03:09.24', 'start': '0:00:33.12', 'end': '0:03:09.24'}, {'adjustedStart': '0:03:21.24', 'adjustedEnd': '0:03:36', 'start': '0:03:21.24', 'end': '0:03:36'}, {'adjustedStart': '0:05:49.8', 'adjustedEnd': '0:06:33.44', 'start': '0:05:49.8', 'end': '0:06:33.44'}, {'adjustedStart': '0:06:52.96', 'adjustedEnd': '0:07:18.92', 'start': '0:06:52.96', 'end': '0:07:18.92'}, {'adjustedStart': '0:07:51.08', 'adjustedEnd': '0:08:40.48', 'start': '0:07:51.08', 'end': '0:08:40.48'}, {'adjustedStart': '0:09:01.36', 'adjustedEnd': '0:11:38.64', 'start': '0:09:01.36', 'end': '0:11:38.64'}]}, {'id': 4, 'name': 'Udacity', 'referenceId': 'Education/Major Concepts in Education/Udacity', 'referenceType': 'VideoIndexer', 'iptcName': 'education/school/college and university/university', 'confidence': 0.7097, 'iabName': 'Education', 'language': 'en-US', 'instances': [{'adjustedStart': '0:01:49.88', 'adjustedEnd': '0:02:44.64', 'start': '0:01:49.88', 'end': '0:02:44.64'}, {'adjustedStart': '0:05:49.8', 'adjustedEnd': '0:06:33.44', 'start': '0:05:49.8', 'end': '0:06:33.44'}, {'adjustedStart': '0:07:51.08', 'adjustedEnd': '0:08:40.48', 'start': '0:07:51.08', 'end': '0:08:40.48'}]}, {'id': 5, 'name': 'Open Online Courses', 'referenceId': 'Education/Major Concepts in Education/Open Online Courses', 'referenceType': 'VideoIndexer', 'iptcName': 'education/online and remote learning', 'confidence': 0.6901, 'iabName': 'Education', 'language': 'en-US', 'instances': [{'adjustedStart': '0:01:49.88', 'adjustedEnd': '0:02:44.64', 'start': '0:01:49.88', 'end': '0:02:44.64'}, {'adjustedStart': '0:05:49.8', 'adjustedEnd': '0:06:33.44', 'start': '0:05:49.8', 'end': '0:06:33.44'}, {'adjustedStart': '0:07:51.08', 'adjustedEnd': '0:08:40.48', 'start': '0:07:51.08', 'end': '0:08:40.48'}]}, {'id': 6, 'name': 'Learning New Things', 'referenceId': 'Education/Learning New Things', 'referenceType': 'VideoIndexer', 'iptcName': 'education/teaching and learning', 'confidence': 0.6596, 'iabName': 'Education', 'language': 'en-US', 'instances': [{'adjustedStart': '0:01:49.88', 'adjustedEnd': '0:02:44.64', 'start': '0:01:49.88', 'end': '0:02:44.64'}, {'adjustedStart': '0:05:49.8', 'adjustedEnd': '0:06:33.44', 'start': '0:05:49.8', 'end': '0:06:33.44'}, {'adjustedStart': '0:07:51.08', 'adjustedEnd': '0:08:40.48', 'start': '0:07:51.08', 'end': '0:08:40.48'}]}, {'id': 7, 'name': 'Linguistics', 'referenceId': 'History/Science/Linguistics', 'referenceType': 'VideoIndexer', 'iptcName': 'science and technology/social sciences/linguistics', 'confidence': 0.6511, 'iabName': 'Books and Literature', 'language': 'en-US', 'instances': [{'adjustedStart': '0:00:33.12', 'adjustedEnd': '0:01:30.68', 'start': '0:00:33.12', 'end': '0:01:30.68'}, {'adjustedStart': '0:07:30.48', 'adjustedEnd': '0:07:44.84', 'start': '0:07:30.48', 'end': '0:07:44.84'}]}, {'id': 8, 'name': 'Machine Learning', 'referenceId': 'Science/Mathematics/Machine Learning', 'referenceType': 'VideoIndexer', 'iptcName': 'science and technology/technology and engineering/information technology and computer science/artificial intelligence', 'confidence': 0.574, 'iabName': 'Science', 'language': 'en-US', 'instances': [{'adjustedStart': '0:01:49.88', 'adjustedEnd': '0:02:44.64', 'start': '0:01:49.88', 'end': '0:02:44.64'}, {'adjustedStart': '0:07:51.08', 'adjustedEnd': '0:08:40.48', 'start': '0:07:51.08', 'end': '0:08:40.48'}]}, {'id': 9, 'name': 'Computer S', 'referenceId': 'Technology/Computer S', 'referenceType': 'VideoIndexer', 'iptcName': 'economy, business and finance/economic sector/computing and information technology/computer security', 'confidence': 0.567, 'iabName': 'Technology & Computing', 'language': 'en-US', 'instances': [{'adjustedStart': '0:00:33.12', 'adjustedEnd': '0:01:30.68', 'start': '0:00:33.12', 'end': '0:01:30.68'}, {'adjustedStart': '0:09:01.36', 'adjustedEnd': '0:10:15.8', 'start': '0:09:01.36', 'end': '0:10:15.8'}]}, {'id': 10, 'name': 'Computational Linguistics', 'referenceId': 'Science/Computational Linguistics', 'referenceType': 'VideoIndexer', 'iptcName': 'science and technology/social sciences/linguistics', 'confidence': 0.5657, 'iabName': 'Science', 'language': 'en-US', 'instances': [{'adjustedStart': '0:00:33.12', 'adjustedEnd': '0:01:30.68', 'start': '0:00:33.12', 'end': '0:01:30.68'}]}, {'id': 11, 'name': 'Javascript Programming Language', 'referenceId': 'Technology/Software and Applications/Javascript Programming Language', 'referenceType': 'VideoIndexer', 'iptcName': 'economy, business and finance/economic sector/computing and information technology/software', 'confidence': 0.5227, 'iabName': 'Technology & Computing', 'language': 'en-US', 'instances': [{'adjustedStart': '0:05:49.8', 'adjustedEnd': '0:06:33.44', 'start': '0:05:49.8', 'end': '0:06:33.44'}]}, {'id': 12, 'name': 'Natural Language Processing', 'referenceId': 'Science/Natural Language Processing', 'referenceType': 'VideoIndexer', 'iptcName': 'science and technology/social sciences/linguistics', 'confidence': 0.5009, 'iabName': 'Science', 'language': 'en-US', 'instances': [{'adjustedStart': '0:00:33.12', 'adjustedEnd': '0:01:30.68', 'start': '0:00:33.12', 'end': '0:01:30.68'}]}], 'brands': [{'id': 1, 'referenceType': 'Wiki', 'name': 'Indian Railways', 'referenceId': 'Indian_Railways', 'referenceUrl': 'http://en.wikipedia.org/wiki/Indian_Railways', 'description': \"Indian Railways (reporting mark IR) is an Indian state-owned enterprise, owned and operated by the Government of India through the Ministry of Railways. It is one of the world's largest railway networks comprising 115,000 km (71,000 mi) of track over a route of 65,808 km (40,891 mi) and 7,112 stations.\", 'tags': [], 'confidence': 0.77, 'isCustom': False, 'instances': [{'brandType': 'Transcript', 'instanceSource': 'Transcript', 'adjustedStart': '0:10:23', 'adjustedEnd': '0:11:14.64', 'start': '0:10:23', 'end': '0:11:14.64'}]}], 'namedPeople': [{'id': 1, 'name': 'Yeh Ali', 'referenceId': None, 'referenceUrl': None, 'description': None, 'tags': [], 'confidence': 0.56, 'isCustom': False, 'instances': [{'instanceSource': 'Transcript', 'adjustedStart': '0:04:32.8', 'adjustedEnd': '0:05:24.2', 'start': '0:04:32.8', 'end': '0:05:24.2'}]}], 'sentiments': [{'id': 1, 'averageScore': 0.5, 'sentimentType': 'Neutral', 'instances': [{'adjustedStart': '0:00:00', 'adjustedEnd': '0:00:33.12', 'start': '0:00:00', 'end': '0:00:33.12'}, {'adjustedStart': '0:01:30.68', 'adjustedEnd': '0:02:01.04', 'start': '0:01:30.68', 'end': '0:02:01.04'}, {'adjustedStart': '0:02:20.92', 'adjustedEnd': '0:11:38.681', 'start': '0:02:20.92', 'end': '0:11:38.681'}]}, {'id': 2, 'averageScore': 0.9765, 'sentimentType': 'Positive', 'instances': [{'adjustedStart': '0:00:33.12', 'adjustedEnd': '0:01:30.68', 'start': '0:00:33.12', 'end': '0:01:30.68'}, {'adjustedStart': '0:02:01.04', 'adjustedEnd': '0:02:20.92', 'start': '0:02:01.04', 'end': '0:02:20.92'}]}], 'emotions': [{'id': 1, 'type': 'Joy', 'instances': [{'confidence': 0.8371, 'adjustedStart': '0:00:33.12', 'adjustedEnd': '0:01:30.68', 'start': '0:00:33.12', 'end': '0:01:30.68'}, {'confidence': 0.8605, 'adjustedStart': '0:02:01.04', 'adjustedEnd': '0:02:20.92', 'start': '0:02:01.04', 'end': '0:02:20.92'}]}], 'blocks': [{'id': 0, 'instances': [{'adjustedStart': '0:00:00', 'adjustedEnd': '0:01:30.68', 'start': '0:00:00', 'end': '0:01:30.68'}]}, {'id': 1, 'instances': [{'adjustedStart': '0:01:30.68', 'adjustedEnd': '0:02:20.92', 'start': '0:01:30.68', 'end': '0:02:20.92'}]}, {'id': 2, 'instances': [{'adjustedStart': '0:02:20.92', 'adjustedEnd': '0:03:09.24', 'start': '0:02:20.92', 'end': '0:03:09.24'}]}, {'id': 3, 'instances': [{'adjustedStart': '0:03:09.24', 'adjustedEnd': '0:03:50.92', 'start': '0:03:09.24', 'end': '0:03:50.92'}]}, {'id': 4, 'instances': [{'adjustedStart': '0:03:50.92', 'adjustedEnd': '0:04:32.64', 'start': '0:03:50.92', 'end': '0:04:32.64'}]}, {'id': 5, 'instances': [{'adjustedStart': '0:04:32.64', 'adjustedEnd': '0:05:24.2', 'start': '0:04:32.64', 'end': '0:05:24.2'}]}, {'id': 6, 'instances': [{'adjustedStart': '0:05:24.2', 'adjustedEnd': '0:06:00.36', 'start': '0:05:24.2', 'end': '0:06:00.36'}]}, {'id': 7, 'instances': [{'adjustedStart': '0:06:00.36', 'adjustedEnd': '0:06:33.44', 'start': '0:06:00.36', 'end': '0:06:33.44'}]}, {'id': 8, 'instances': [{'adjustedStart': '0:06:33.44', 'adjustedEnd': '0:07:18.92', 'start': '0:06:33.44', 'end': '0:07:18.92'}]}, {'id': 9, 'instances': [{'adjustedStart': '0:07:18.92', 'adjustedEnd': '0:07:56.2', 'start': '0:07:18.92', 'end': '0:07:56.2'}]}, {'id': 10, 'instances': [{'adjustedStart': '0:07:56.2', 'adjustedEnd': '0:08:40.48', 'start': '0:07:56.2', 'end': '0:08:40.48'}]}, {'id': 11, 'instances': [{'adjustedStart': '0:08:40.48', 'adjustedEnd': '0:10:15.8', 'start': '0:08:40.48', 'end': '0:10:15.8'}]}, {'id': 12, 'instances': [{'adjustedStart': '0:10:15.8', 'adjustedEnd': '0:11:14.64', 'start': '0:10:15.8', 'end': '0:11:14.64'}]}, {'id': 13, 'instances': [{'adjustedStart': '0:11:14.64', 'adjustedEnd': '0:11:38.681', 'start': '0:11:14.64', 'end': '0:11:38.681'}]}], 'speakers': [{'id': 1, 'name': 'Speaker #1', 'instances': [{'adjustedStart': '0:00:00.24', 'adjustedEnd': '0:00:27.32', 'start': '0:00:00.24', 'end': '0:00:27.32'}, {'adjustedStart': '0:00:33.12', 'adjustedEnd': '0:01:30.68', 'start': '0:00:33.12', 'end': '0:01:30.68'}, {'adjustedStart': '0:01:35.04', 'adjustedEnd': '0:01:44.84', 'start': '0:01:35.04', 'end': '0:01:44.84'}, {'adjustedStart': '0:01:49.88', 'adjustedEnd': '0:01:59.44', 'start': '0:01:49.88', 'end': '0:01:59.44'}, {'adjustedStart': '0:01:59.44', 'adjustedEnd': '0:02:00.32', 'start': '0:01:59.44', 'end': '0:02:00.32'}, {'adjustedStart': '0:02:01.04', 'adjustedEnd': '0:02:20.92', 'start': '0:02:01.04', 'end': '0:02:20.92'}, {'adjustedStart': '0:02:20.92', 'adjustedEnd': '0:02:44.64', 'start': '0:02:20.92', 'end': '0:02:44.64'}, {'adjustedStart': '0:02:50.68', 'adjustedEnd': '0:03:09.24', 'start': '0:02:50.68', 'end': '0:03:09.24'}, {'adjustedStart': '0:03:21.24', 'adjustedEnd': '0:03:36', 'start': '0:03:21.24', 'end': '0:03:36'}, {'adjustedStart': '0:03:50.32', 'adjustedEnd': '0:03:50.92', 'start': '0:03:50.32', 'end': '0:03:50.92'}, {'adjustedStart': '0:03:51.4', 'adjustedEnd': '0:03:53.64', 'start': '0:03:51.4', 'end': '0:03:53.64'}, {'adjustedStart': '0:03:54.24', 'adjustedEnd': '0:04:19.6', 'start': '0:03:54.24', 'end': '0:04:19.6'}, {'adjustedStart': '0:04:19.76', 'adjustedEnd': '0:04:32.64', 'start': '0:04:19.76', 'end': '0:04:32.64'}, {'adjustedStart': '0:04:32.8', 'adjustedEnd': '0:05:24.2', 'start': '0:04:32.8', 'end': '0:05:24.2'}, {'adjustedStart': '0:05:49.8', 'adjustedEnd': '0:06:00.36', 'start': '0:05:49.8', 'end': '0:06:00.36'}, {'adjustedStart': '0:06:01.72', 'adjustedEnd': '0:06:17.32', 'start': '0:06:01.72', 'end': '0:06:17.32'}, {'adjustedStart': '0:06:20.12', 'adjustedEnd': '0:06:33.44', 'start': '0:06:20.12', 'end': '0:06:33.44'}, {'adjustedStart': '0:06:52.96', 'adjustedEnd': '0:07:18.92', 'start': '0:06:52.96', 'end': '0:07:18.92'}, {'adjustedStart': '0:07:30.48', 'adjustedEnd': '0:07:44.84', 'start': '0:07:30.48', 'end': '0:07:44.84'}, {'adjustedStart': '0:07:51.08', 'adjustedEnd': '0:07:56.2', 'start': '0:07:51.08', 'end': '0:07:56.2'}, {'adjustedStart': '0:07:56.24', 'adjustedEnd': '0:08:17.72', 'start': '0:07:56.24', 'end': '0:08:17.72'}, {'adjustedStart': '0:08:19.88', 'adjustedEnd': '0:08:40.48', 'start': '0:08:19.88', 'end': '0:08:40.48'}, {'adjustedStart': '0:09:01.36', 'adjustedEnd': '0:10:15.8', 'start': '0:09:01.36', 'end': '0:10:15.8'}, {'adjustedStart': '0:10:23', 'adjustedEnd': '0:11:14.64', 'start': '0:10:23', 'end': '0:11:14.64'}, {'adjustedStart': '0:11:20.28', 'adjustedEnd': '0:11:30.36', 'start': '0:11:20.28', 'end': '0:11:30.36'}, {'adjustedStart': '0:11:30.4', 'adjustedEnd': '0:11:32.68', 'start': '0:11:30.4', 'end': '0:11:32.68'}, {'adjustedStart': '0:11:32.92', 'adjustedEnd': '0:11:34.32', 'start': '0:11:32.92', 'end': '0:11:34.32'}, {'adjustedStart': '0:11:34.4', 'adjustedEnd': '0:11:38.64', 'start': '0:11:34.4', 'end': '0:11:38.64'}]}], 'textualContentModeration': {'id': 0, 'bannedWordsCount': 0, 'bannedWordsRatio': 0, 'instances': []}, 'statistics': {'correspondenceCount': 0, 'speakerTalkToListenRatio': {'1': 1}, 'speakerLongestMonolog': {'1': 545}, 'speakerNumberOfFragments': {'1': 26}, 'speakerWordCount': {'1': 316}}}, 'thumbnailId': '00000000-0000-0000-0000-000000000000', 'detectSourceLanguage': False, 'languageAutoDetectMode': 'None', 'sourceLanguage': 'en-US', 'sourceLanguages': ['en-US'], 'language': 'en-US', 'languages': ['en-US'], 'indexingPreset': 'Default', 'streamingPreset': 'Default', 'linguisticModelId': '00000000-0000-0000-0000-000000000000', 'personModelId': '00000000-0000-0000-0000-000000000000', 'logoGroupId': None, 'isAdult': False, 'excludedAIs': [], 'isSearchable': True, 'publishedUrl': 'https://api.videoindexer.ai/internals/eastus/Accounts/1d0b01cc-6f4b-48ad-bb1e-a028d29163a6/Videos/xo2go3wk9v/streaming-manifest/manifest.m3u8', 'publishedProxyUrl': None, 'viewToken': 'eyJhbGciOiJSUzI1NiIsInR5cCI6IkpXVCJ9.eyJWZXJzaW9uIjoiMi4wLjAuMCIsIktleVZlcnNpb24iOiIxNGIwZDg4NTU0OTE0YjkwYjBkYjEwM2M0NmRkYTNkNiIsIkFjY291bnRJZCI6IjFkMGIwMWNjLTZmNGItNDhhZC1iYjFlLWEwMjhkMjkxNjNhNiIsIkFjY291bnRUeXBlIjoiQ2xhc3NpYyIsIlZpZGVvSWQiOiJ4bzJnbzN3azl2IiwiUGVybWlzc2lvbiI6IlJlc3RyaWN0ZWRWaWV3ZXIiLCJFeHRlcm5hbFVzZXJJZCI6IjE0NTMxQzBFQTgwNTRFQ0RCRjkzREQyNTY4RkNDQUQ3IiwiVXNlclR5cGUiOiJNaWNyb3NvZnRDb3JwQWFkIiwiSXNzdWVyTG9jYXRpb24iOiJlYXN0dXMiLCJuYmYiOjE3Mzc5NjY5MTIsImV4cCI6MTczNzk3MDgxMiwiaXNzIjoiaHR0cHM6Ly9hcGkudmlkZW9pbmRleGVyLmFpLyIsImF1ZCI6Imh0dHBzOi8vYXBpLnZpZGVvaW5kZXhlci5haS8ifQ.ZtnBJhOY5z8r-k9TcfPRKTKYMhHgpoaJ6oUHvwRJVOiGveQtnKyoO_yaQplx5mocFQxQQvAfZimiGEifpmLaYcnvv00sVnl6ou2-7I5S9MjQn9MX_hlc2gE56tl8ZOCg4WE-ej9NGLI_mJs0L0a9f_hPQdTj7PE3MNYeLIm0xdEhzB1YQ0jDmWU5iujrWA8kTFXOH0NF4I0z5jW3zgTcuiCAsVlD1otIr2RXE1Xx9l6_h0kuBy794P_d32BMm1vz8rQ-JLyEMz8iA7IchkGm2O0FynTT4FOmmhGmjzTrKq1PzJE6M9AxUF-iLMq68ESi0YT_iCGkCuY-NcnGBenhKg'}], 'videosRanges': [{'videoId': 'xo2go3wk9v', 'range': {'start': '0:00:00', 'end': '0:11:38.681'}}]}\n",
      "transcripts [{'id': 1, 'text': 'Average Python developer dose daslak rupee per annum, other difference basically skill set.', 'confidence': 0.4632, 'speakerId': 1, 'language': 'en-US', 'instances': [{'adjustedStart': '0:00:00.24', 'adjustedEnd': '0:00:27.32', 'start': '0:00:00.24', 'end': '0:00:27.32'}]}, {'id': 2, 'text': 'Start confidence boost aajma Python 1991 may develop Monty Python circus March 2024 key TOB index Python at the top end Python is the most loved language in fact language of the year about those are satme, those are dasme, those are Tara me, those are ikismi, those are Python programming journey and you feel Kyar you are stuck SM programming basic signature programming.', 'confidence': 0.5817, 'speakerId': 1, 'language': 'en-US', 'instances': [{'adjustedStart': '0:00:33.12', 'adjustedEnd': '0:01:30.68', 'start': '0:00:33.12', 'end': '0:01:30.68'}]}, {'id': 3, 'text': 'Now this is very important.', 'confidence': 0.7288, 'speakerId': 1, 'language': 'en-US', 'instances': [{'adjustedStart': '0:01:35.04', 'adjustedEnd': '0:01:44.84', 'start': '0:01:35.04', 'end': '0:01:44.84'}]}, {'id': 4, 'text': 'Start, start 100 days.', 'confidence': 0.4255, 'speakerId': 1, 'language': 'en-US', 'instances': [{'adjustedStart': '0:01:49.88', 'adjustedEnd': '0:01:59.44', 'start': '0:01:49.88', 'end': '0:01:59.44'}]}, {'id': 5, 'text': 'Of course.', 'confidence': 0.4141, 'speakerId': 1, 'language': 'en-US', 'instances': [{'adjustedStart': '0:01:59.44', 'adjustedEnd': '0:02:00.32', 'start': '0:01:59.44', 'end': '0:02:00.32'}]}, {'id': 6, 'text': \"It's an amazing course, millions of learners, very handwritten notes.\", 'confidence': 0.5612, 'speakerId': 1, 'language': 'en-US', 'instances': [{'adjustedStart': '0:02:01.04', 'adjustedEnd': '0:02:20.92', 'start': '0:02:01.04', 'end': '0:02:20.92'}]}, {'id': 7, 'text': 'Python download description with download.', 'confidence': 0.3669, 'speakerId': 1, 'language': 'en-US', 'instances': [{'adjustedStart': '0:02:20.92', 'adjustedEnd': '0:02:44.64', 'start': '0:02:20.92', 'end': '0:02:44.64'}]}, {'id': 8, 'text': 'Dot com reliable service 100 days of mobile app.', 'confidence': 0.354, 'speakerId': 1, 'language': 'en-US', 'instances': [{'adjustedStart': '0:02:50.68', 'adjustedEnd': '0:03:09.24', 'start': '0:02:50.68', 'end': '0:03:09.24'}]}, {'id': 9, 'text': 'Phone, maybe travel, something is better than nothing.', 'confidence': 0.4656, 'speakerId': 1, 'language': 'en-US', 'instances': [{'adjustedStart': '0:03:21.24', 'adjustedEnd': '0:03:36', 'start': '0:03:21.24', 'end': '0:03:36'}]}, {'id': 10, 'text': 'Confidence.', 'confidence': 0.6535, 'speakerId': 1, 'language': 'en-US', 'instances': [{'adjustedStart': '0:03:50.32', 'adjustedEnd': '0:03:50.92', 'start': '0:03:50.32', 'end': '0:03:50.92'}]}, {'id': 11, 'text': 'Merely heavy programming.', 'confidence': 0.4391, 'speakerId': 1, 'language': 'en-US', 'instances': [{'adjustedStart': '0:03:51.4', 'adjustedEnd': '0:03:53.64', 'start': '0:03:51.4', 'end': '0:03:53.64'}]}, {'id': 12, 'text': 'Initial days Start programming.', 'confidence': 0.431, 'speakerId': 1, 'language': 'en-US', 'instances': [{'adjustedStart': '0:03:54.24', 'adjustedEnd': '0:04:19.6', 'start': '0:03:54.24', 'end': '0:04:19.6'}]}, {'id': 13, 'text': 'Excuse me rule of thumb Rule of thumb definitely was the useful.', 'confidence': 0.4788, 'speakerId': 1, 'language': 'en-US', 'instances': [{'adjustedStart': '0:04:19.76', 'adjustedEnd': '0:04:32.64', 'start': '0:04:19.76', 'end': '0:04:32.64'}]}, {'id': 14, 'text': 'In fact, most of the people something is missing in life to Yeh Ali feeling up enjoy exercise health benefits, which is worth it 100 days of as far as basic but basics programs.', 'confidence': 0.4841, 'speakerId': 1, 'language': 'en-US', 'instances': [{'adjustedStart': '0:04:32.8', 'adjustedEnd': '0:05:24.2', 'start': '0:04:32.8', 'end': '0:05:24.2'}]}, {'id': 15, 'text': \"Then it's totally fine.\", 'confidence': 0.7248, 'speakerId': 1, 'language': 'en-US', 'instances': [{'adjustedStart': '0:05:49.8', 'adjustedEnd': '0:06:00.36', 'start': '0:05:49.8', 'end': '0:06:00.36'}]}, {'id': 16, 'text': \"It's totally fine.\", 'confidence': 0.5605, 'speakerId': 1, 'language': 'en-US', 'instances': [{'adjustedStart': '0:06:01.72', 'adjustedEnd': '0:06:17.32', 'start': '0:06:01.72', 'end': '0:06:17.32'}]}, {'id': 17, 'text': 'Basic Python learning get and get.', 'confidence': 0.3593, 'speakerId': 1, 'language': 'en-US', 'instances': [{'adjustedStart': '0:06:20.12', 'adjustedEnd': '0:06:33.44', 'start': '0:06:20.12', 'end': '0:06:33.44'}]}, {'id': 18, 'text': \"For some reason, particular technology and it's totally normal.\", 'confidence': 0.5975, 'speakerId': 1, 'language': 'en-US', 'instances': [{'adjustedStart': '0:06:52.96', 'adjustedEnd': '0:07:18.92', 'start': '0:06:52.96', 'end': '0:07:18.92'}]}, {'id': 19, 'text': 'Primary language Hindi.', 'confidence': 0.7569, 'speakerId': 1, 'language': 'en-US', 'instances': [{'adjustedStart': '0:07:30.48', 'adjustedEnd': '0:07:44.84', 'start': '0:07:30.48', 'end': '0:07:44.84'}]}, {'id': 20, 'text': 'Or for any reason.', 'confidence': 0.5456, 'speakerId': 1, 'language': 'en-US', 'instances': [{'adjustedStart': '0:07:51.08', 'adjustedEnd': '0:07:56.2', 'start': '0:07:51.08', 'end': '0:07:56.2'}]}, {'id': 21, 'text': 'It might not be me, it might be you learning that is going to work in your favor or in topics.', 'confidence': 0.6981, 'speakerId': 1, 'language': 'en-US', 'instances': [{'adjustedStart': '0:07:56.24', 'adjustedEnd': '0:08:17.72', 'start': '0:07:56.24', 'end': '0:08:17.72'}]}, {'id': 22, 'text': '100 days of code Topics, Projects, practice questions, Topics PDF download.', 'confidence': 0.542, 'speakerId': 1, 'language': 'en-US', 'instances': [{'adjustedStart': '0:08:19.88', 'adjustedEnd': '0:08:40.48', 'start': '0:08:19.88', 'end': '0:08:40.48'}]}, {'id': 23, 'text': 'AI code suggestions initially, then complete Carnegie projects software development as a beginner intermediate programmer, I think paid plan free alternative machine machinepowerful.edu e-mail ID.', 'confidence': 0.4004, 'speakerId': 1, 'language': 'en-US', 'instances': [{'adjustedStart': '0:09:01.36', 'adjustedEnd': '0:10:15.8', 'start': '0:09:01.36', 'end': '0:10:15.8'}]}, {'id': 24, 'text': 'Primarily Python, Flappy Bird game from scratch Indian railway announcement system, DRS system projects.', 'confidence': 0.5198, 'speakerId': 1, 'language': 'en-US', 'instances': [{'adjustedStart': '0:10:23', 'adjustedEnd': '0:11:14.64', 'start': '0:10:23', 'end': '0:11:14.64'}]}, {'id': 25, 'text': 'PDF download their own description topics step by step topics 100 days of topics here.', 'confidence': 0.5646, 'speakerId': 1, 'language': 'en-US', 'instances': [{'adjustedStart': '0:11:20.28', 'adjustedEnd': '0:11:30.36', 'start': '0:11:20.28', 'end': '0:11:30.36'}]}, {'id': 26, 'text': 'But again PDF description with.', 'confidence': 0.5598, 'speakerId': 1, 'language': 'en-US', 'instances': [{'adjustedStart': '0:11:30.4', 'adjustedEnd': '0:11:32.68', 'start': '0:11:30.4', 'end': '0:11:32.68'}]}, {'id': 27, 'text': 'I hope this video was helpful.', 'confidence': 0.8801, 'speakerId': 1, 'language': 'en-US', 'instances': [{'adjustedStart': '0:11:32.92', 'adjustedEnd': '0:11:34.32', 'start': '0:11:32.92', 'end': '0:11:34.32'}]}, {'id': 28, 'text': 'Thank you so much guys for watching this video and I will see you next time.', 'confidence': 0.9771, 'speakerId': 1, 'language': 'en-US', 'instances': [{'adjustedStart': '0:11:34.4', 'adjustedEnd': '0:11:38.64', 'start': '0:11:34.4', 'end': '0:11:38.64'}]}]\n",
      "Answer: The video discusses the journey of learning Python programming, emphasizing the importance of starting with the basics and building confidence. It highlights a \"100 days of code\" course, which includes topics, projects, and practice questions, and is available with handwritten notes and a mobile app. The video encourages learners to persist through challenges and suggests that learning Python can be beneficial for software development. It also mentions projects like creating a Flappy Bird game and an Indian railway announcement system.\n",
      "The video index state is Processed\n"
     ]
    }
   ],
   "source": [
    "file_path = input(\"Enter video file path:\")\n",
    "\n",
    "print('Uploading Video to Azure Storage account.')\n",
    "# default container to store test videos is set as 'tenant-151-safetycheck', can be changed by adding container name in the UploadVideoToStorageAccount as 2nd argument.\n",
    "video_url = UploadVideoToStorageAccount(file_path)\n",
    "\n",
    "print('Generating video url with embedded SAS Token.')\n",
    "# in the below step also in Create ContainerSASToken function default container is set as tenant-151-safetycheck, can be updated by passing the container name as an argument to the CreateContainerSASToken\n",
    "access_video_url = f'{video_url}?{CreateContainerSASToken()}'\n",
    "\n",
    "print('Uploading Video to Azure Video Indexer.')\n",
    "response_data = upload_video_for_indexing(access_video_url)\n",
    "\n",
    "azure_video_id = response_data['id']\n",
    "print('Checking Video Processing State.')\n",
    "wait_for_index_async(azure_video_id)\n",
    "\n"
   ]
  }
 ],
 "metadata": {
  "kernelspec": {
   "display_name": "venv",
   "language": "python",
   "name": "python3"
  },
  "language_info": {
   "codemirror_mode": {
    "name": "ipython",
    "version": 3
   },
   "file_extension": ".py",
   "mimetype": "text/x-python",
   "name": "python",
   "nbconvert_exporter": "python",
   "pygments_lexer": "ipython3",
   "version": "3.11.6"
  }
 },
 "nbformat": 4,
 "nbformat_minor": 2
}
